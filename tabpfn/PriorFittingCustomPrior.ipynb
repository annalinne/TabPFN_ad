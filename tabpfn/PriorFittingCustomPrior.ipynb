{
 "cells": [
  {
   "cell_type": "markdown",
   "metadata": {
    "tags": []
   },
   "source": [
    "## Setup"
   ]
  },
  {
   "cell_type": "code",
   "execution_count": 1,
   "metadata": {},
   "outputs": [],
   "source": [
    "%load_ext autoreload\n",
    "\n",
    "%autoreload 2"
   ]
  },
  {
   "cell_type": "code",
   "execution_count": 1,
   "metadata": {},
   "outputs": [],
   "source": [
    "import random\n",
    "import time\n",
    "import warnings\n",
    "from datetime import datetime\n",
    "\n",
    "import torch\n",
    "\n",
    "import numpy as np\n",
    "\n",
    "import matplotlib.pyplot as plt\n",
    "from scripts.differentiable_pfn_evaluation import eval_model_range\n",
    "from scripts.model_builder import get_model, get_default_spec, save_model, load_model\n",
    "from scripts.transformer_prediction_interface import transformer_predict, get_params_from_config, load_model_workflow\n",
    "\n",
    "from scripts.model_configs import *\n",
    "\n",
    "from datasets import load_openml_list, open_cc_dids, open_cc_valid_dids\n",
    "from priors.utils import plot_prior, plot_features\n",
    "from priors.utils import uniform_int_sampler_f\n",
    "\n",
    "from scripts.tabular_metrics import calculate_score_per_method, calculate_score\n",
    "from scripts.tabular_evaluation import evaluate\n",
    "\n",
    "from priors.differentiable_prior import DifferentiableHyperparameterList, draw_random_style, merge_style_with_info\n",
    "from scripts import tabular_metrics\n",
    "from notebook_utils import *"
   ]
  },
  {
   "cell_type": "code",
   "execution_count": 2,
   "metadata": {},
   "outputs": [],
   "source": [
    "large_datasets = True\n",
    "max_samples = 10000 if large_datasets else 5000\n",
    "bptt = 10000 if large_datasets else 3000\n",
    "suite='cc'"
   ]
  },
  {
   "cell_type": "code",
   "execution_count": 3,
   "metadata": {},
   "outputs": [],
   "source": [
    "device = 'cpu'\n",
    "base_path = '.'\n",
    "max_features = 100"
   ]
  },
  {
   "cell_type": "code",
   "execution_count": 4,
   "metadata": {},
   "outputs": [],
   "source": [
    "def print_models(model_string):\n",
    "    print(model_string)\n",
    "\n",
    "    for i in range(80):\n",
    "        for e in range(50):\n",
    "            exists = Path(os.path.join(base_path, f'models_diff/prior_diff_real_checkpoint{model_string}_n_{i}_epoch_{e}.cpkt')).is_file()\n",
    "            if exists:\n",
    "                print(os.path.join(base_path, f'models_diff/prior_diff_real_checkpoint{model_string}_n_{i}_epoch_{e}.cpkt'))\n",
    "        print()"
   ]
  },
  {
   "cell_type": "code",
   "execution_count": 5,
   "metadata": {},
   "outputs": [],
   "source": [
    "def train_function(config_sample, i, add_name=''):\n",
    "    start_time = time.time()\n",
    "    N_epochs_to_save = 50\n",
    "    \n",
    "    def save_callback(model, epoch):\n",
    "        if not hasattr(model, 'last_saved_epoch'):\n",
    "            model.last_saved_epoch = 0\n",
    "        if ((time.time() - start_time) / (maximum_runtime * 60 / N_epochs_to_save)) > model.last_saved_epoch:\n",
    "            print('Saving model..')\n",
    "            config_sample['epoch_in_training'] = epoch\n",
    "            save_model(model, base_path, f'models_diff/prior_diff_real_checkpoint{add_name}_n_{i}_epoch_{model.last_saved_epoch}.cpkt',\n",
    "                           config_sample)\n",
    "            model.last_saved_epoch = model.last_saved_epoch + 1 # TODO: Rename to checkpoint\n",
    "    \n",
    "    model = get_model(config_sample\n",
    "                      , device\n",
    "                      , should_train=True\n",
    "                      , verbose=1\n",
    "                      , epoch_callback = save_callback)\n",
    "    \n",
    "    return"
   ]
  },
  {
   "cell_type": "markdown",
   "metadata": {
    "tags": []
   },
   "source": [
    "## Define prior settings"
   ]
  },
  {
   "cell_type": "code",
   "execution_count": 6,
   "metadata": {
    "scrolled": true
   },
   "outputs": [],
   "source": [
    "def reload_config(config_type='causal', task_type='multiclass', longer=0):\n",
    "    config = get_prior_config(config_type=config_type)\n",
    "    \n",
    "    config['prior_type'], config['differentiable'], config['flexible'] = 'prior_bag', True, True\n",
    "    \n",
    "    model_string = ''\n",
    "    \n",
    "    config['epochs'] = 12000\n",
    "    config['recompute_attn'] = True\n",
    "\n",
    "    config['max_num_classes'] = 10\n",
    "    config['num_classes'] = uniform_int_sampler_f(2, config['max_num_classes'])\n",
    "    config['balanced'] = False\n",
    "    model_string = model_string + '_multiclass'\n",
    "    \n",
    "    model_string = model_string + '_'+datetime.now().strftime(\"%m_%d_%Y_%H_%M_%S\")\n",
    "    \n",
    "    return config, model_string"
   ]
  },
  {
   "cell_type": "markdown",
   "metadata": {
    "tags": []
   },
   "source": [
    "## Visualize Prior samples"
   ]
  },
  {
   "cell_type": "code",
   "execution_count": 7,
   "metadata": {
    "tags": []
   },
   "outputs": [],
   "source": [
    "config, model_string = reload_config(longer=1)\n",
    "\n",
    "config['bptt_extra_samples'] = None\n",
    "\n",
    "# diff\n",
    "config['output_multiclass_ordered_p'] = 0.\n",
    "del config['differentiable_hyperparameters']['output_multiclass_ordered_p']\n",
    "\n",
    "config['multiclass_type'] = 'rank'\n",
    "del config['differentiable_hyperparameters']['multiclass_type']\n",
    "\n",
    "config['sampling'] = 'normal' # vielleicht schlecht?\n",
    "del config['differentiable_hyperparameters']['sampling']\n",
    "\n",
    "config['pre_sample_causes'] = True\n",
    "# end diff\n",
    "\n",
    "config['multiclass_loss_type'] = 'nono' # 'compatible'\n",
    "config['normalize_to_ranking'] = False # False\n",
    "\n",
    "config['categorical_feature_p'] = .2 # diff: .0\n",
    "\n",
    "# turn this back on in a random search!?\n",
    "config['nan_prob_no_reason'] = .0\n",
    "config['nan_prob_unknown_reason'] = .0 # diff: .0\n",
    "config['set_value_to_nan'] = .1 # diff: 1.\n",
    "\n",
    "config['normalize_with_sqrt'] = False\n",
    "\n",
    "config['new_mlp_per_example'] = True\n",
    "config['prior_mlp_scale_weights_sqrt'] = True\n",
    "config['batch_size_per_gp_sample'] = None\n",
    "\n",
    "config['normalize_ignore_label_too'] = False\n",
    "\n",
    "config['differentiable_hps_as_style'] = False\n",
    "config['max_eval_pos'] = 1000\n",
    "\n",
    "config['random_feature_rotation'] = True\n",
    "config['rotate_normalized_labels'] = True\n",
    "\n",
    "config[\"mix_activations\"] = False # False heisst eig True\n",
    "\n",
    "config['emsize'] = 512\n",
    "config['nhead'] = config['emsize'] // 128\n",
    "config['bptt'] = 1024+128\n",
    "config['canonical_y_encoder'] = False\n",
    "\n",
    "    \n",
    "config['aggregate_k_gradients'] = 8\n",
    "config['batch_size'] = 8*config['aggregate_k_gradients']\n",
    "config['num_steps'] = 1024//config['aggregate_k_gradients']\n",
    "config['epochs'] = 400\n",
    "config['total_available_time_in_s'] = None #60*60*22 # 22 hours for some safety...\n",
    "\n",
    "config['train_mixed_precision'] = True\n",
    "config['efficient_eval_masking'] = True\n",
    "\n",
    "config_sample = evaluate_hypers(config)"
   ]
  },
  {
   "cell_type": "code",
   "execution_count": 9,
   "metadata": {},
   "outputs": [
    {
     "name": "stdout",
     "output_type": "stream",
     "text": [
      "Using style prior: True\n",
      "Using cpu:0 device\n",
      "Using a Transformer with 25.82 M parameters\n",
      "PRIOR_BAG: tensor([1.0000, 8.5808]) [1]\n",
      "{'is_causal': False, 'num_causes': 7, 'prior_mlp_hidden_dim': 51, 'num_layers': 11, 'noise_std': 0.012094913898457349, 'y_is_effect': True, 'pre_sample_weights': True, 'prior_mlp_dropout_prob': 0.529989951481207, 'pre_sample_causes': True}\n",
      "Hparams dict_keys(['prior_bag_exp_weights_1', 'num_layers_alpha', 'num_layers_scale', 'prior_mlp_hidden_dim_alpha', 'prior_mlp_hidden_dim_scale', 'prior_mlp_dropout_prob_b', 'prior_mlp_dropout_prob_k', 'noise_std_log_mean', 'noise_std_log_std', 'init_std_log_mean', 'init_std_log_std', 'num_causes_alpha', 'num_causes_scale', 'is_causal_choice_1_weight', 'pre_sample_weights_choice_1_weight', 'y_is_effect_choice_1_weight', 'prior_mlp_activations_choice_1_weight', 'prior_mlp_activations_choice_2_weight', 'block_wise_dropout_choice_1_weight', 'sort_features_choice_1_weight', 'in_clique_choice_1_weight', 'outputscale_log_mean', 'outputscale_log_std', 'lengthscale_log_mean', 'lengthscale_log_std', 'noise_choice_1_weight', 'noise_choice_2_weight'])\n"
     ]
    },
    {
     "name": "stderr",
     "output_type": "stream",
     "text": [
      "/home/anna_linne/.pyenv/versions/3.7.12/envs/tabpfn_37/lib/python3.7/site-packages/numpy/lib/function_base.py:2691: RuntimeWarning: invalid value encountered in true_divide\n",
      "  c /= stddev[:, None]\n",
      "/home/anna_linne/.pyenv/versions/3.7.12/envs/tabpfn_37/lib/python3.7/site-packages/numpy/lib/function_base.py:2692: RuntimeWarning: invalid value encountered in true_divide\n",
      "  c /= stddev[None, :]\n"
     ]
    },
    {
     "data": {
      "text/plain": [
       "<Figure size 800x800 with 0 Axes>"
      ]
     },
     "metadata": {},
     "output_type": "display_data"
    },
    {
     "data": {
      "image/png": "[encoded data removed]",
      "text/plain": [
       "<Figure size 480x480 with 1 Axes>"
      ]
     },
     "metadata": {},
     "output_type": "display_data"
    }
   ],
   "source": [
    "config_sample['batch_size'] = 4\n",
    "model = get_model(config_sample, device, should_train=False, verbose=2) # , state_dict=model[2].state_dict()\n",
    "(hp_embedding, data, _), targets, single_eval_pos = next(iter(model[3]))\n",
    "\n",
    "from utils import normalize_data\n",
    "fig = plt.figure(figsize=(8, 8))\n",
    "N = 100\n",
    "#plot_features(data[0:N, 0, 0:4], targets[0:N, 0], fig=fig)\n",
    "\n",
    "d = np.concatenate([data[:, 0, :].T, np.expand_dims(targets[:, 0], -1).T])\n",
    "d[np.isnan(d)] = 0\n",
    "c = np.corrcoef(d)\n",
    "plt.matshow(np.abs(c), vmin=0, vmax=1)\n",
    "plt.show()"
   ]
  },
  {
   "cell_type": "markdown",
   "metadata": {
    "tags": []
   },
   "source": [
    "## Training"
   ]
  },
  {
   "cell_type": "code",
   "execution_count": null,
   "metadata": {},
   "outputs": [
    {
     "name": "stdout",
     "output_type": "stream",
     "text": [
      "Using style prior: True\n",
      "Using cpu:0 device\n",
      "Using a Transformer with 25.82 M parameters\n"
     ]
    }
   ],
   "source": [
    "model = get_model(config_sample, device, should_train=True, verbose=1)"
   ]
  },
  {
   "cell_type": "code",
   "execution_count": 29,
   "metadata": {},
   "outputs": [
    {
     "data": {
      "text/plain": [
       "{'lr': 0.0001262023241183402,\n",
       " 'dropout': 0.0,\n",
       " 'emsize': 512,\n",
       " 'batch_size': 1,\n",
       " 'nlayers': 12,\n",
       " 'num_features': 100,\n",
       " 'nhead': 4,\n",
       " 'nhid_factor': 2,\n",
       " 'bptt': 1152,\n",
       " 'eval_positions': [1094],\n",
       " 'seq_len_used': 50,\n",
       " 'sampling': 'normal',\n",
       " 'epochs': 400,\n",
       " 'num_steps': 4194304,\n",
       " 'verbose': False,\n",
       " 'mix_activations': False,\n",
       " 'pre_sample_causes': True,\n",
       " 'multiclass_type': 'rank',\n",
       " 'nan_prob_unknown_reason_reason_prior': 0.5,\n",
       " 'categorical_feature_p': 0.2,\n",
       " 'nan_prob_no_reason': 0.0,\n",
       " 'nan_prob_unknown_reason': 0.0,\n",
       " 'nan_prob_a_reason': 0.0,\n",
       " 'max_num_classes': 10,\n",
       " 'num_classes': <function priors.utils.<lambda>.<locals>.<lambda>()>,\n",
       " 'noise_type': 'Gaussian',\n",
       " 'balanced': False,\n",
       " 'normalize_to_ranking': False,\n",
       " 'set_value_to_nan': 0.1,\n",
       " 'normalize_by_used_features': True,\n",
       " 'num_features_used': {'uniform_int_sampler_f(3,max_features)': <function tabpfn.priors.utils.<lambda>.<locals>.<lambda>()>},\n",
       " 'num_categorical_features_sampler_a': -1.0,\n",
       " 'differentiable_hyperparameters': {'prior_bag_exp_weights_1': {'distribution': 'uniform',\n",
       "   'min': 2.0,\n",
       "   'max': 10.0},\n",
       "  'num_layers': {'distribution': 'meta_gamma',\n",
       "   'max_alpha': 2,\n",
       "   'max_scale': 3,\n",
       "   'round': True,\n",
       "   'lower_bound': 2},\n",
       "  'prior_mlp_hidden_dim': {'distribution': 'meta_gamma',\n",
       "   'max_alpha': 3,\n",
       "   'max_scale': 100,\n",
       "   'round': True,\n",
       "   'lower_bound': 4},\n",
       "  'prior_mlp_dropout_prob': {'distribution': 'meta_beta',\n",
       "   'scale': 0.6,\n",
       "   'min': 0.1,\n",
       "   'max': 5.0},\n",
       "  'noise_std': {'distribution': 'meta_trunc_norm_log_scaled',\n",
       "   'max_mean': 0.3,\n",
       "   'min_mean': 0.0001,\n",
       "   'round': False,\n",
       "   'lower_bound': 0.0},\n",
       "  'init_std': {'distribution': 'meta_trunc_norm_log_scaled',\n",
       "   'max_mean': 10.0,\n",
       "   'min_mean': 0.01,\n",
       "   'round': False,\n",
       "   'lower_bound': 0.0},\n",
       "  'num_causes': {'distribution': 'meta_gamma',\n",
       "   'max_alpha': 3,\n",
       "   'max_scale': 7,\n",
       "   'round': True,\n",
       "   'lower_bound': 2},\n",
       "  'is_causal': {'distribution': 'meta_choice', 'choice_values': [True, False]},\n",
       "  'pre_sample_weights': {'distribution': 'meta_choice',\n",
       "   'choice_values': [True, False]},\n",
       "  'y_is_effect': {'distribution': 'meta_choice',\n",
       "   'choice_values': [True, False]},\n",
       "  'prior_mlp_activations': {'distribution': 'meta_choice_mixed',\n",
       "   'choice_values': [torch.nn.modules.activation.Tanh,\n",
       "    torch.nn.modules.linear.Identity,\n",
       "    torch.nn.modules.activation.ReLU]},\n",
       "  'block_wise_dropout': {'distribution': 'meta_choice',\n",
       "   'choice_values': [True, False]},\n",
       "  'sort_features': {'distribution': 'meta_choice',\n",
       "   'choice_values': [True, False]},\n",
       "  'in_clique': {'distribution': 'meta_choice', 'choice_values': [True, False]},\n",
       "  'outputscale': {'distribution': 'meta_trunc_norm_log_scaled',\n",
       "   'max_mean': 10.0,\n",
       "   'min_mean': 1e-05,\n",
       "   'round': False,\n",
       "   'lower_bound': 0},\n",
       "  'lengthscale': {'distribution': 'meta_trunc_norm_log_scaled',\n",
       "   'max_mean': 10.0,\n",
       "   'min_mean': 1e-05,\n",
       "   'round': False,\n",
       "   'lower_bound': 0},\n",
       "  'noise': {'distribution': 'meta_choice',\n",
       "   'choice_values': [1e-05, 0.0001, 0.01]}},\n",
       " 'prior_type': 'prior_bag',\n",
       " 'differentiable': True,\n",
       " 'flexible': True,\n",
       " 'recompute_attn': True,\n",
       " 'bptt_extra_samples': None,\n",
       " 'output_multiclass_ordered_p': 0.0,\n",
       " 'multiclass_loss_type': 'nono',\n",
       " 'normalize_with_sqrt': False,\n",
       " 'new_mlp_per_example': True,\n",
       " 'prior_mlp_scale_weights_sqrt': True,\n",
       " 'batch_size_per_gp_sample': None,\n",
       " 'normalize_ignore_label_too': False,\n",
       " 'differentiable_hps_as_style': False,\n",
       " 'max_eval_pos': 1000,\n",
       " 'random_feature_rotation': True,\n",
       " 'rotate_normalized_labels': True,\n",
       " 'canonical_y_encoder': False,\n",
       " 'aggregate_k_gradients': 8,\n",
       " 'total_available_time_in_s': None,\n",
       " 'train_mixed_precision': True,\n",
       " 'efficient_eval_masking': True}"
      ]
     },
     "execution_count": 29,
     "metadata": {},
     "output_type": "execute_result"
    }
   ],
   "source": [
    "config_sample"
   ]
  },
  {
   "cell_type": "code",
   "execution_count": 15,
   "metadata": {},
   "outputs": [],
   "source": [
    "import tabpfn.priors as priors"
   ]
  },
  {
   "cell_type": "code",
   "execution_count": 16,
   "metadata": {},
   "outputs": [],
   "source": [
    "def make_get_batch(model_proto, **extra_kwargs):\n",
    "        def new_get_batch(batch_size, seq_len, num_features, hyperparameters\n",
    "                , device, model_proto=model_proto\n",
    "                , **kwargs):\n",
    "            kwargs = {**extra_kwargs, **kwargs} # new args overwrite pre-specified args\n",
    "            return model_proto.get_batch(\n",
    "                batch_size=batch_size\n",
    "                , seq_len=seq_len\n",
    "                , device=device\n",
    "                , hyperparameters=hyperparameters\n",
    "                , num_features=num_features, **kwargs)\n",
    "        return new_get_batch"
   ]
  },
  {
   "cell_type": "code",
   "execution_count": 17,
   "metadata": {},
   "outputs": [],
   "source": [
    "config = config_sample"
   ]
  },
  {
   "cell_type": "code",
   "execution_count": 21,
   "metadata": {},
   "outputs": [],
   "source": [
    "from scripts.model_builder import get_mlp_prior_hyperparameters, get_gp_prior_hyperparameters"
   ]
  },
  {
   "cell_type": "code",
   "execution_count": 22,
   "metadata": {},
   "outputs": [],
   "source": [
    "get_batch_gp = make_get_batch(priors.fast_gp)\n",
    "get_batch_mlp = make_get_batch(priors.mlp)\n",
    "if 'flexible' in config and config['flexible']:\n",
    "    get_batch_gp = make_get_batch(priors.flexible_categorical, **{'get_batch': get_batch_gp})\n",
    "    get_batch_mlp = make_get_batch(priors.flexible_categorical, **{'get_batch': get_batch_mlp})\n",
    "prior_bag_hyperparameters = {'prior_bag_get_batch': (get_batch_gp, get_batch_mlp)\n",
    "    , 'prior_bag_exp_weights_1': 2.0}\n",
    "prior_hyperparameters = {**get_mlp_prior_hyperparameters(config), **get_gp_prior_hyperparameters(config)\n",
    "    , **prior_bag_hyperparameters}\n",
    "model_proto = priors.prior_bag"
   ]
  },
  {
   "cell_type": "code",
   "execution_count": 28,
   "metadata": {
    "scrolled": false
   },
   "outputs": [
    {
     "data": {
      "text/plain": [
       "{'lr': 0.0001262023241183402,\n",
       " 'dropout': 0.0,\n",
       " 'emsize': 512,\n",
       " 'batch_size': 1,\n",
       " 'nlayers': 12,\n",
       " 'num_features': 100,\n",
       " 'nhead': 4,\n",
       " 'nhid_factor': 2,\n",
       " 'bptt': 1152,\n",
       " 'eval_positions': [1094],\n",
       " 'seq_len_used': 50,\n",
       " 'sampling': 'normal',\n",
       " 'epochs': 400,\n",
       " 'num_steps': 4194304,\n",
       " 'verbose': False,\n",
       " 'mix_activations': False,\n",
       " 'pre_sample_causes': True,\n",
       " 'multiclass_type': 'rank',\n",
       " 'nan_prob_unknown_reason_reason_prior': 0.5,\n",
       " 'categorical_feature_p': 0.2,\n",
       " 'nan_prob_no_reason': 0.0,\n",
       " 'nan_prob_unknown_reason': 0.0,\n",
       " 'nan_prob_a_reason': 0.0,\n",
       " 'max_num_classes': 10,\n",
       " 'num_classes': <function priors.utils.<lambda>.<locals>.<lambda>()>,\n",
       " 'noise_type': 'Gaussian',\n",
       " 'balanced': False,\n",
       " 'normalize_to_ranking': False,\n",
       " 'set_value_to_nan': 0.1,\n",
       " 'normalize_by_used_features': True,\n",
       " 'num_features_used': <function tabpfn.priors.utils.<lambda>.<locals>.<lambda>()>,\n",
       " 'num_categorical_features_sampler_a': -1.0,\n",
       " 'differentiable_hyperparameters': {'distribution': 'uniform',\n",
       "  'min': 2.0,\n",
       "  'max': 10.0},\n",
       " 'prior_type': 'prior_bag',\n",
       " 'differentiable': True,\n",
       " 'flexible': True,\n",
       " 'recompute_attn': True,\n",
       " 'bptt_extra_samples': None,\n",
       " 'output_multiclass_ordered_p': 0.0,\n",
       " 'multiclass_loss_type': 'nono',\n",
       " 'normalize_with_sqrt': False,\n",
       " 'new_mlp_per_example': True,\n",
       " 'prior_mlp_scale_weights_sqrt': True,\n",
       " 'batch_size_per_gp_sample': None,\n",
       " 'normalize_ignore_label_too': False,\n",
       " 'differentiable_hps_as_style': False,\n",
       " 'max_eval_pos': 1000,\n",
       " 'random_feature_rotation': True,\n",
       " 'rotate_normalized_labels': True,\n",
       " 'canonical_y_encoder': False,\n",
       " 'aggregate_k_gradients': 8,\n",
       " 'total_available_time_in_s': None,\n",
       " 'train_mixed_precision': True,\n",
       " 'efficient_eval_masking': True,\n",
       " 'prior_bag_get_batch': (<function __main__.make_get_batch.<locals>.new_get_batch(batch_size, seq_len, num_features, hyperparameters, device, model_proto=<module 'tabpfn.priors.flexible_categorical' from '/home/anna_linne/TabPFN/tabpfn/priors/flexible_categorical.py'>, **kwargs)>,\n",
       "  <function __main__.make_get_batch.<locals>.new_get_batch(batch_size, seq_len, num_features, hyperparameters, device, model_proto=<module 'tabpfn.priors.flexible_categorical' from '/home/anna_linne/TabPFN/tabpfn/priors/flexible_categorical.py'>, **kwargs)>),\n",
       " 'prior_bag_exp_weights_1': 2.0}"
      ]
     },
     "execution_count": 28,
     "metadata": {},
     "output_type": "execute_result"
    }
   ],
   "source": [
    "prior_hyperparameters"
   ]
  }
 ],
 "metadata": {
  "kernelspec": {
   "display_name": "Python 3 (ipykernel)",
   "language": "python",
   "name": "python3"
  },
  "language_info": {
   "codemirror_mode": {
    "name": "ipython",
    "version": 3
   },
   "file_extension": ".py",
   "mimetype": "text/x-python",
   "name": "python",
   "nbconvert_exporter": "python",
   "pygments_lexer": "ipython3",
   "version": "3.7.12"
  }
 },
 "nbformat": 4,
 "nbformat_minor": 4
}
